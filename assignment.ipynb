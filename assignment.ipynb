{
 "cells": [
  {
   "cell_type": "markdown",
   "id": "2d1a73ab",
   "metadata": {},
   "source": [
    "# Tabularize time series\n",
    "\n",
    "In this assignment, your task is to convert **time series data** into a **tabular data set**.\n",
    "\n",
    "You need to create suitable input features from a time series containing weekly sales to be able to forecast sales for the next week.\n",
    "\n",
    "To prepare the dataset for this assignment, please follow the guidelines in the notebook `02-create-online-retail-II-datasets.ipynb` in the `01-Create-Datasets` folder."
   ]
  },
  {
   "cell_type": "code",
   "execution_count": 2,
   "id": "f53976d3",
   "metadata": {},
   "outputs": [
    {
     "data": {
      "text/html": [
       "<div>\n",
       "<style scoped>\n",
       "    .dataframe tbody tr th:only-of-type {\n",
       "        vertical-align: middle;\n",
       "    }\n",
       "\n",
       "    .dataframe tbody tr th {\n",
       "        vertical-align: top;\n",
       "    }\n",
       "\n",
       "    .dataframe thead th {\n",
       "        text-align: right;\n",
       "    }\n",
       "</style>\n",
       "<table border=\"1\" class=\"dataframe\">\n",
       "  <thead>\n",
       "    <tr style=\"text-align: right;\">\n",
       "      <th></th>\n",
       "      <th>sales</th>\n",
       "    </tr>\n",
       "    <tr>\n",
       "      <th>week</th>\n",
       "      <th></th>\n",
       "    </tr>\n",
       "  </thead>\n",
       "  <tbody>\n",
       "    <tr>\n",
       "      <th>2009-12-06</th>\n",
       "      <td>213000.35</td>\n",
       "    </tr>\n",
       "    <tr>\n",
       "      <th>2009-12-13</th>\n",
       "      <td>195810.04</td>\n",
       "    </tr>\n",
       "    <tr>\n",
       "      <th>2009-12-20</th>\n",
       "      <td>182396.74</td>\n",
       "    </tr>\n",
       "    <tr>\n",
       "      <th>2009-12-27</th>\n",
       "      <td>22007.77</td>\n",
       "    </tr>\n",
       "    <tr>\n",
       "      <th>2010-01-03</th>\n",
       "      <td>0.00</td>\n",
       "    </tr>\n",
       "  </tbody>\n",
       "</table>\n",
       "</div>"
      ],
      "text/plain": [
       "                sales\n",
       "week                 \n",
       "2009-12-06  213000.35\n",
       "2009-12-13  195810.04\n",
       "2009-12-20  182396.74\n",
       "2009-12-27   22007.77\n",
       "2010-01-03       0.00"
      ]
     },
     "execution_count": 2,
     "metadata": {},
     "output_type": "execute_result"
    }
   ],
   "source": [
    "# load weekly sales dataset\n",
    "\n",
    "import pandas as pd\n",
    "\n",
    "filename = \"online_retail_dataset.csv\"\n",
    "\n",
    "df = pd.read_csv(\n",
    "    filename,\n",
    "    usecols=[\"week\", \"United Kingdom\"],\n",
    "    parse_dates=[\"week\"],\n",
    "    index_col=[\"week\"],\n",
    ")\n",
    "\n",
    "df.columns = ['sales']\n",
    "\n",
    "df.head()"
   ]
  },
  {
   "cell_type": "markdown",
   "id": "cdfe9415",
   "metadata": {},
   "source": [
    "# Data analysis\n",
    "\n",
    "First, explore the time series.\n",
    "\n",
    "## Plot time series"
   ]
  },
  {
   "cell_type": "code",
   "execution_count": 6,
   "id": "7f09e2c0",
   "metadata": {},
   "outputs": [
    {
     "data": {
      "text/html": [
       "<div>\n",
       "<style scoped>\n",
       "    .dataframe tbody tr th:only-of-type {\n",
       "        vertical-align: middle;\n",
       "    }\n",
       "\n",
       "    .dataframe tbody tr th {\n",
       "        vertical-align: top;\n",
       "    }\n",
       "\n",
       "    .dataframe thead th {\n",
       "        text-align: right;\n",
       "    }\n",
       "</style>\n",
       "<table border=\"1\" class=\"dataframe\">\n",
       "  <thead>\n",
       "    <tr style=\"text-align: right;\">\n",
       "      <th></th>\n",
       "      <th>sales</th>\n",
       "    </tr>\n",
       "    <tr>\n",
       "      <th>week</th>\n",
       "      <th></th>\n",
       "    </tr>\n",
       "  </thead>\n",
       "  <tbody>\n",
       "    <tr>\n",
       "      <th>2009-12-06</th>\n",
       "      <td>213000.35</td>\n",
       "    </tr>\n",
       "    <tr>\n",
       "      <th>2009-12-13</th>\n",
       "      <td>195810.04</td>\n",
       "    </tr>\n",
       "    <tr>\n",
       "      <th>2009-12-20</th>\n",
       "      <td>182396.74</td>\n",
       "    </tr>\n",
       "    <tr>\n",
       "      <th>2009-12-27</th>\n",
       "      <td>22007.77</td>\n",
       "    </tr>\n",
       "    <tr>\n",
       "      <th>2010-01-03</th>\n",
       "      <td>0.00</td>\n",
       "    </tr>\n",
       "  </tbody>\n",
       "</table>\n",
       "</div>"
      ],
      "text/plain": [
       "                sales\n",
       "week                 \n",
       "2009-12-06  213000.35\n",
       "2009-12-13  195810.04\n",
       "2009-12-20  182396.74\n",
       "2009-12-27   22007.77\n",
       "2010-01-03       0.00"
      ]
     },
     "execution_count": 6,
     "metadata": {},
     "output_type": "execute_result"
    }
   ],
   "source": [
    "df.head()"
   ]
  },
  {
   "cell_type": "code",
   "execution_count": 23,
   "id": "ae42440c",
   "metadata": {},
   "outputs": [
    {
     "data": {
      "text/plain": [
       "106"
      ]
     },
     "execution_count": 23,
     "metadata": {},
     "output_type": "execute_result"
    }
   ],
   "source": [
    "len(df)"
   ]
  },
  {
   "cell_type": "code",
   "execution_count": 17,
   "id": "c95e4e7a",
   "metadata": {},
   "outputs": [
    {
     "data": {
      "image/png": "[encoded data removed]",
      "text/plain": [
       "<Figure size 2000x400 with 1 Axes>"
      ]
     },
     "metadata": {},
     "output_type": "display_data"
    }
   ],
   "source": [
    "import matplotlib.pyplot as plt\n",
    "\n",
    "var = df.columns[0]\n",
    "\n",
    "df.plot(figsize=(20,4))\n",
    "\n",
    "plt.title(var)\n",
    "\n",
    "plt.ylabel(var)\n",
    "\n",
    "plt.show()"
   ]
  },
  {
   "cell_type": "markdown",
   "id": "6ceabd79",
   "metadata": {},
   "source": [
    "## Missing data\n",
    "\n",
    "Check if there are missing values in the time series."
   ]
  },
  {
   "cell_type": "code",
   "execution_count": 18,
   "id": "0a2ac8b9",
   "metadata": {},
   "outputs": [
    {
     "data": {
      "text/plain": [
       "sales    0\n",
       "dtype: int64"
      ]
     },
     "execution_count": 18,
     "metadata": {},
     "output_type": "execute_result"
    }
   ],
   "source": [
    "df.isnull().sum()"
   ]
  },
  {
   "cell_type": "markdown",
   "id": "9c484bca",
   "metadata": {},
   "source": [
    "## Missing timestamps\n",
    "\n",
    "Check if there are missing timestamps in the index."
   ]
  },
  {
   "cell_type": "code",
   "execution_count": 20,
   "id": "78c57c08",
   "metadata": {},
   "outputs": [],
   "source": [
    "df_ = df.asfreq(\"W\")"
   ]
  },
  {
   "cell_type": "code",
   "execution_count": 21,
   "id": "73bb41da",
   "metadata": {},
   "outputs": [
    {
     "data": {
      "text/plain": [
       "106"
      ]
     },
     "execution_count": 21,
     "metadata": {},
     "output_type": "execute_result"
    }
   ],
   "source": [
    "len(df_)"
   ]
  },
  {
   "cell_type": "code",
   "execution_count": 22,
   "id": "b0954eea",
   "metadata": {},
   "outputs": [
    {
     "data": {
      "text/plain": [
       "106"
      ]
     },
     "execution_count": 22,
     "metadata": {},
     "output_type": "execute_result"
    }
   ],
   "source": [
    "len(df)"
   ]
  },
  {
   "cell_type": "markdown",
   "id": "444ca303",
   "metadata": {},
   "source": [
    "## Seasonality\n",
    "\n",
    "Does the time series show any obvious seasonal pattern?"
   ]
  },
  {
   "cell_type": "code",
   "execution_count": null,
   "id": "a7c2913c",
   "metadata": {},
   "outputs": [],
   "source": [
    "#Si, de manera anual"
   ]
  },
  {
   "cell_type": "markdown",
   "id": "e81565cb",
   "metadata": {},
   "source": [
    "# Feature engineering\n",
    "\n",
    "Now, let's begin to tabularize the data."
   ]
  },
  {
   "cell_type": "code",
   "execution_count": 31,
   "id": "7dab47b8",
   "metadata": {},
   "outputs": [],
   "source": [
    "#Timestamp features\n",
    "\n",
    "from feature_engine.creation import CyclicalFeatures\n",
    "\n",
    "df[\"month\"] = df.index.month\n",
    "df[\"year\"] = df.index.year\n",
    "df[\"number_of_week\"] = df.index.isocalendar().week\n",
    "cyclical = CyclicalFeatures(\n",
    "    variables=[\"month\"],  # The features we want to transform.\n",
    "    drop_original=False,  # Whether to drop the original features.\n",
    ")\n",
    "\n",
    "df = cyclical.fit_transform(df)"
   ]
  },
  {
   "cell_type": "code",
   "execution_count": 49,
   "id": "b141a88d",
   "metadata": {},
   "outputs": [
    {
     "data": {
      "text/html": [
       "<div>\n",
       "<style scoped>\n",
       "    .dataframe tbody tr th:only-of-type {\n",
       "        vertical-align: middle;\n",
       "    }\n",
       "\n",
       "    .dataframe tbody tr th {\n",
       "        vertical-align: top;\n",
       "    }\n",
       "\n",
       "    .dataframe thead th {\n",
       "        text-align: right;\n",
       "    }\n",
       "</style>\n",
       "<table border=\"1\" class=\"dataframe\">\n",
       "  <thead>\n",
       "    <tr style=\"text-align: right;\">\n",
       "      <th></th>\n",
       "      <th>sales</th>\n",
       "      <th>month</th>\n",
       "      <th>number_of_week</th>\n",
       "      <th>year</th>\n",
       "      <th>month_sin</th>\n",
       "      <th>month_cos</th>\n",
       "      <th>sales_lag_1W</th>\n",
       "    </tr>\n",
       "    <tr>\n",
       "      <th>week</th>\n",
       "      <th></th>\n",
       "      <th></th>\n",
       "      <th></th>\n",
       "      <th></th>\n",
       "      <th></th>\n",
       "      <th></th>\n",
       "      <th></th>\n",
       "    </tr>\n",
       "  </thead>\n",
       "  <tbody>\n",
       "    <tr>\n",
       "      <th>2009-12-06</th>\n",
       "      <td>213000.35</td>\n",
       "      <td>12</td>\n",
       "      <td>49</td>\n",
       "      <td>2009</td>\n",
       "      <td>-2.449294e-16</td>\n",
       "      <td>1.000000</td>\n",
       "      <td>NaN</td>\n",
       "    </tr>\n",
       "    <tr>\n",
       "      <th>2009-12-13</th>\n",
       "      <td>195810.04</td>\n",
       "      <td>12</td>\n",
       "      <td>50</td>\n",
       "      <td>2009</td>\n",
       "      <td>-2.449294e-16</td>\n",
       "      <td>1.000000</td>\n",
       "      <td>213000.35</td>\n",
       "    </tr>\n",
       "    <tr>\n",
       "      <th>2009-12-20</th>\n",
       "      <td>182396.74</td>\n",
       "      <td>12</td>\n",
       "      <td>51</td>\n",
       "      <td>2009</td>\n",
       "      <td>-2.449294e-16</td>\n",
       "      <td>1.000000</td>\n",
       "      <td>195810.04</td>\n",
       "    </tr>\n",
       "    <tr>\n",
       "      <th>2009-12-27</th>\n",
       "      <td>22007.77</td>\n",
       "      <td>12</td>\n",
       "      <td>52</td>\n",
       "      <td>2009</td>\n",
       "      <td>-2.449294e-16</td>\n",
       "      <td>1.000000</td>\n",
       "      <td>182396.74</td>\n",
       "    </tr>\n",
       "    <tr>\n",
       "      <th>2010-01-03</th>\n",
       "      <td>0.00</td>\n",
       "      <td>1</td>\n",
       "      <td>53</td>\n",
       "      <td>2010</td>\n",
       "      <td>5.000000e-01</td>\n",
       "      <td>0.866025</td>\n",
       "      <td>22007.77</td>\n",
       "    </tr>\n",
       "    <tr>\n",
       "      <th>...</th>\n",
       "      <td>...</td>\n",
       "      <td>...</td>\n",
       "      <td>...</td>\n",
       "      <td>...</td>\n",
       "      <td>...</td>\n",
       "      <td>...</td>\n",
       "      <td>...</td>\n",
       "    </tr>\n",
       "    <tr>\n",
       "      <th>2011-11-13</th>\n",
       "      <td>229378.01</td>\n",
       "      <td>11</td>\n",
       "      <td>45</td>\n",
       "      <td>2011</td>\n",
       "      <td>-5.000000e-01</td>\n",
       "      <td>0.866025</td>\n",
       "      <td>226770.53</td>\n",
       "    </tr>\n",
       "    <tr>\n",
       "      <th>2011-11-20</th>\n",
       "      <td>221870.29</td>\n",
       "      <td>11</td>\n",
       "      <td>46</td>\n",
       "      <td>2011</td>\n",
       "      <td>-5.000000e-01</td>\n",
       "      <td>0.866025</td>\n",
       "      <td>229378.01</td>\n",
       "    </tr>\n",
       "    <tr>\n",
       "      <th>2011-11-27</th>\n",
       "      <td>210741.76</td>\n",
       "      <td>11</td>\n",
       "      <td>47</td>\n",
       "      <td>2011</td>\n",
       "      <td>-5.000000e-01</td>\n",
       "      <td>0.866025</td>\n",
       "      <td>221870.29</td>\n",
       "    </tr>\n",
       "    <tr>\n",
       "      <th>2011-12-04</th>\n",
       "      <td>220213.99</td>\n",
       "      <td>12</td>\n",
       "      <td>48</td>\n",
       "      <td>2011</td>\n",
       "      <td>-2.449294e-16</td>\n",
       "      <td>1.000000</td>\n",
       "      <td>210741.76</td>\n",
       "    </tr>\n",
       "    <tr>\n",
       "      <th>2011-12-11</th>\n",
       "      <td>372946.26</td>\n",
       "      <td>12</td>\n",
       "      <td>49</td>\n",
       "      <td>2011</td>\n",
       "      <td>-2.449294e-16</td>\n",
       "      <td>1.000000</td>\n",
       "      <td>220213.99</td>\n",
       "    </tr>\n",
       "  </tbody>\n",
       "</table>\n",
       "<p>106 rows × 7 columns</p>\n",
       "</div>"
      ],
      "text/plain": [
       "                sales  month  number_of_week  year     month_sin  month_cos  \\\n",
       "week                                                                          \n",
       "2009-12-06  213000.35     12              49  2009 -2.449294e-16   1.000000   \n",
       "2009-12-13  195810.04     12              50  2009 -2.449294e-16   1.000000   \n",
       "2009-12-20  182396.74     12              51  2009 -2.449294e-16   1.000000   \n",
       "2009-12-27   22007.77     12              52  2009 -2.449294e-16   1.000000   \n",
       "2010-01-03       0.00      1              53  2010  5.000000e-01   0.866025   \n",
       "...               ...    ...             ...   ...           ...        ...   \n",
       "2011-11-13  229378.01     11              45  2011 -5.000000e-01   0.866025   \n",
       "2011-11-20  221870.29     11              46  2011 -5.000000e-01   0.866025   \n",
       "2011-11-27  210741.76     11              47  2011 -5.000000e-01   0.866025   \n",
       "2011-12-04  220213.99     12              48  2011 -2.449294e-16   1.000000   \n",
       "2011-12-11  372946.26     12              49  2011 -2.449294e-16   1.000000   \n",
       "\n",
       "            sales_lag_1W  \n",
       "week                      \n",
       "2009-12-06           NaN  \n",
       "2009-12-13     213000.35  \n",
       "2009-12-20     195810.04  \n",
       "2009-12-27     182396.74  \n",
       "2010-01-03      22007.77  \n",
       "...                  ...  \n",
       "2011-11-13     226770.53  \n",
       "2011-11-20     229378.01  \n",
       "2011-11-27     221870.29  \n",
       "2011-12-04     210741.76  \n",
       "2011-12-11     220213.99  \n",
       "\n",
       "[106 rows x 7 columns]"
      ]
     },
     "execution_count": 49,
     "metadata": {},
     "output_type": "execute_result"
    }
   ],
   "source": [
    "#Lag features\n",
    "\n",
    "variable = ['sales']\n",
    "\n",
    "tmp = df[variable].shift(freq=\"1W\")\n",
    "\n",
    "tmp.columns = [x + '_lag_1W' for x in variable]\n",
    "\n",
    "df = df.merge(tmp, right_index = True, left_index = True, how='left')\n",
    "\n",
    "df"
   ]
  },
  {
   "cell_type": "code",
   "execution_count": 54,
   "id": "05757154",
   "metadata": {
    "scrolled": true
   },
   "outputs": [
    {
     "data": {
      "text/html": [
       "<div>\n",
       "<style scoped>\n",
       "    .dataframe tbody tr th:only-of-type {\n",
       "        vertical-align: middle;\n",
       "    }\n",
       "\n",
       "    .dataframe tbody tr th {\n",
       "        vertical-align: top;\n",
       "    }\n",
       "\n",
       "    .dataframe thead th {\n",
       "        text-align: right;\n",
       "    }\n",
       "</style>\n",
       "<table border=\"1\" class=\"dataframe\">\n",
       "  <thead>\n",
       "    <tr style=\"text-align: right;\">\n",
       "      <th></th>\n",
       "      <th>sales</th>\n",
       "      <th>month</th>\n",
       "      <th>number_of_week</th>\n",
       "      <th>year</th>\n",
       "      <th>month_sin</th>\n",
       "      <th>month_cos</th>\n",
       "      <th>sales_lag_1W</th>\n",
       "      <th>sales_lag_4W</th>\n",
       "    </tr>\n",
       "    <tr>\n",
       "      <th>week</th>\n",
       "      <th></th>\n",
       "      <th></th>\n",
       "      <th></th>\n",
       "      <th></th>\n",
       "      <th></th>\n",
       "      <th></th>\n",
       "      <th></th>\n",
       "      <th></th>\n",
       "    </tr>\n",
       "  </thead>\n",
       "  <tbody>\n",
       "    <tr>\n",
       "      <th>2009-12-06</th>\n",
       "      <td>213000.35</td>\n",
       "      <td>12</td>\n",
       "      <td>49</td>\n",
       "      <td>2009</td>\n",
       "      <td>-2.449294e-16</td>\n",
       "      <td>1.000000</td>\n",
       "      <td>NaN</td>\n",
       "      <td>NaN</td>\n",
       "    </tr>\n",
       "    <tr>\n",
       "      <th>2009-12-13</th>\n",
       "      <td>195810.04</td>\n",
       "      <td>12</td>\n",
       "      <td>50</td>\n",
       "      <td>2009</td>\n",
       "      <td>-2.449294e-16</td>\n",
       "      <td>1.000000</td>\n",
       "      <td>213000.35</td>\n",
       "      <td>NaN</td>\n",
       "    </tr>\n",
       "    <tr>\n",
       "      <th>2009-12-20</th>\n",
       "      <td>182396.74</td>\n",
       "      <td>12</td>\n",
       "      <td>51</td>\n",
       "      <td>2009</td>\n",
       "      <td>-2.449294e-16</td>\n",
       "      <td>1.000000</td>\n",
       "      <td>195810.04</td>\n",
       "      <td>NaN</td>\n",
       "    </tr>\n",
       "    <tr>\n",
       "      <th>2009-12-27</th>\n",
       "      <td>22007.77</td>\n",
       "      <td>12</td>\n",
       "      <td>52</td>\n",
       "      <td>2009</td>\n",
       "      <td>-2.449294e-16</td>\n",
       "      <td>1.000000</td>\n",
       "      <td>182396.74</td>\n",
       "      <td>NaN</td>\n",
       "    </tr>\n",
       "    <tr>\n",
       "      <th>2010-01-03</th>\n",
       "      <td>0.00</td>\n",
       "      <td>1</td>\n",
       "      <td>53</td>\n",
       "      <td>2010</td>\n",
       "      <td>5.000000e-01</td>\n",
       "      <td>0.866025</td>\n",
       "      <td>22007.77</td>\n",
       "      <td>213000.35</td>\n",
       "    </tr>\n",
       "    <tr>\n",
       "      <th>...</th>\n",
       "      <td>...</td>\n",
       "      <td>...</td>\n",
       "      <td>...</td>\n",
       "      <td>...</td>\n",
       "      <td>...</td>\n",
       "      <td>...</td>\n",
       "      <td>...</td>\n",
       "      <td>...</td>\n",
       "    </tr>\n",
       "    <tr>\n",
       "      <th>2011-11-13</th>\n",
       "      <td>229378.01</td>\n",
       "      <td>11</td>\n",
       "      <td>45</td>\n",
       "      <td>2011</td>\n",
       "      <td>-5.000000e-01</td>\n",
       "      <td>0.866025</td>\n",
       "      <td>226770.53</td>\n",
       "      <td>161438.54</td>\n",
       "    </tr>\n",
       "    <tr>\n",
       "      <th>2011-11-20</th>\n",
       "      <td>221870.29</td>\n",
       "      <td>11</td>\n",
       "      <td>46</td>\n",
       "      <td>2011</td>\n",
       "      <td>-5.000000e-01</td>\n",
       "      <td>0.866025</td>\n",
       "      <td>229378.01</td>\n",
       "      <td>179106.07</td>\n",
       "    </tr>\n",
       "    <tr>\n",
       "      <th>2011-11-27</th>\n",
       "      <td>210741.76</td>\n",
       "      <td>11</td>\n",
       "      <td>47</td>\n",
       "      <td>2011</td>\n",
       "      <td>-5.000000e-01</td>\n",
       "      <td>0.866025</td>\n",
       "      <td>221870.29</td>\n",
       "      <td>190034.20</td>\n",
       "    </tr>\n",
       "    <tr>\n",
       "      <th>2011-12-04</th>\n",
       "      <td>220213.99</td>\n",
       "      <td>12</td>\n",
       "      <td>48</td>\n",
       "      <td>2011</td>\n",
       "      <td>-2.449294e-16</td>\n",
       "      <td>1.000000</td>\n",
       "      <td>210741.76</td>\n",
       "      <td>226770.53</td>\n",
       "    </tr>\n",
       "    <tr>\n",
       "      <th>2011-12-11</th>\n",
       "      <td>372946.26</td>\n",
       "      <td>12</td>\n",
       "      <td>49</td>\n",
       "      <td>2011</td>\n",
       "      <td>-2.449294e-16</td>\n",
       "      <td>1.000000</td>\n",
       "      <td>220213.99</td>\n",
       "      <td>229378.01</td>\n",
       "    </tr>\n",
       "  </tbody>\n",
       "</table>\n",
       "<p>106 rows × 8 columns</p>\n",
       "</div>"
      ],
      "text/plain": [
       "                sales  month  number_of_week  year     month_sin  month_cos  \\\n",
       "week                                                                          \n",
       "2009-12-06  213000.35     12              49  2009 -2.449294e-16   1.000000   \n",
       "2009-12-13  195810.04     12              50  2009 -2.449294e-16   1.000000   \n",
       "2009-12-20  182396.74     12              51  2009 -2.449294e-16   1.000000   \n",
       "2009-12-27   22007.77     12              52  2009 -2.449294e-16   1.000000   \n",
       "2010-01-03       0.00      1              53  2010  5.000000e-01   0.866025   \n",
       "...               ...    ...             ...   ...           ...        ...   \n",
       "2011-11-13  229378.01     11              45  2011 -5.000000e-01   0.866025   \n",
       "2011-11-20  221870.29     11              46  2011 -5.000000e-01   0.866025   \n",
       "2011-11-27  210741.76     11              47  2011 -5.000000e-01   0.866025   \n",
       "2011-12-04  220213.99     12              48  2011 -2.449294e-16   1.000000   \n",
       "2011-12-11  372946.26     12              49  2011 -2.449294e-16   1.000000   \n",
       "\n",
       "            sales_lag_1W  sales_lag_4W  \n",
       "week                                    \n",
       "2009-12-06           NaN           NaN  \n",
       "2009-12-13     213000.35           NaN  \n",
       "2009-12-20     195810.04           NaN  \n",
       "2009-12-27     182396.74           NaN  \n",
       "2010-01-03      22007.77     213000.35  \n",
       "...                  ...           ...  \n",
       "2011-11-13     226770.53     161438.54  \n",
       "2011-11-20     229378.01     179106.07  \n",
       "2011-11-27     221870.29     190034.20  \n",
       "2011-12-04     210741.76     226770.53  \n",
       "2011-12-11     220213.99     229378.01  \n",
       "\n",
       "[106 rows x 8 columns]"
      ]
     },
     "execution_count": 54,
     "metadata": {},
     "output_type": "execute_result"
    }
   ],
   "source": [
    "variable = ['sales']\n",
    "\n",
    "tmp = df[variable].shift(freq=\"4W\")\n",
    "\n",
    "tmp.columns = [x + '_lag_4W' for x in variable]\n",
    "\n",
    "df = df.merge(tmp, right_index = True, left_index = True, how='left')\n",
    "\n",
    "df"
   ]
  },
  {
   "cell_type": "code",
   "execution_count": 56,
   "id": "095d8f44",
   "metadata": {},
   "outputs": [
    {
     "data": {
      "text/plain": [
       "sales             0\n",
       "month             0\n",
       "number_of_week    0\n",
       "year              0\n",
       "month_sin         0\n",
       "month_cos         0\n",
       "sales_lag_1W      1\n",
       "sales_lag_4W      4\n",
       "dtype: int64"
      ]
     },
     "execution_count": 56,
     "metadata": {},
     "output_type": "execute_result"
    }
   ],
   "source": [
    "df.isnull().sum()"
   ]
  },
  {
   "cell_type": "code",
   "execution_count": 57,
   "id": "6e9b84bd",
   "metadata": {},
   "outputs": [],
   "source": [
    "df.dropna(inplace=True)"
   ]
  },
  {
   "cell_type": "code",
   "execution_count": 58,
   "id": "3a1bfd05",
   "metadata": {},
   "outputs": [
    {
     "data": {
      "text/html": [
       "<div>\n",
       "<style scoped>\n",
       "    .dataframe tbody tr th:only-of-type {\n",
       "        vertical-align: middle;\n",
       "    }\n",
       "\n",
       "    .dataframe tbody tr th {\n",
       "        vertical-align: top;\n",
       "    }\n",
       "\n",
       "    .dataframe thead th {\n",
       "        text-align: right;\n",
       "    }\n",
       "</style>\n",
       "<table border=\"1\" class=\"dataframe\">\n",
       "  <thead>\n",
       "    <tr style=\"text-align: right;\">\n",
       "      <th></th>\n",
       "      <th>sales</th>\n",
       "      <th>month</th>\n",
       "      <th>number_of_week</th>\n",
       "      <th>year</th>\n",
       "      <th>month_sin</th>\n",
       "      <th>month_cos</th>\n",
       "      <th>sales_lag_1W</th>\n",
       "      <th>sales_lag_4W</th>\n",
       "    </tr>\n",
       "    <tr>\n",
       "      <th>week</th>\n",
       "      <th></th>\n",
       "      <th></th>\n",
       "      <th></th>\n",
       "      <th></th>\n",
       "      <th></th>\n",
       "      <th></th>\n",
       "      <th></th>\n",
       "      <th></th>\n",
       "    </tr>\n",
       "  </thead>\n",
       "  <tbody>\n",
       "    <tr>\n",
       "      <th>2010-01-03</th>\n",
       "      <td>0.000</td>\n",
       "      <td>1</td>\n",
       "      <td>53</td>\n",
       "      <td>2010</td>\n",
       "      <td>0.5</td>\n",
       "      <td>0.866025</td>\n",
       "      <td>22007.770</td>\n",
       "      <td>213000.35</td>\n",
       "    </tr>\n",
       "    <tr>\n",
       "      <th>2010-01-10</th>\n",
       "      <td>112318.850</td>\n",
       "      <td>1</td>\n",
       "      <td>1</td>\n",
       "      <td>2010</td>\n",
       "      <td>0.5</td>\n",
       "      <td>0.866025</td>\n",
       "      <td>0.000</td>\n",
       "      <td>195810.04</td>\n",
       "    </tr>\n",
       "    <tr>\n",
       "      <th>2010-01-17</th>\n",
       "      <td>111460.470</td>\n",
       "      <td>1</td>\n",
       "      <td>2</td>\n",
       "      <td>2010</td>\n",
       "      <td>0.5</td>\n",
       "      <td>0.866025</td>\n",
       "      <td>112318.850</td>\n",
       "      <td>182396.74</td>\n",
       "    </tr>\n",
       "    <tr>\n",
       "      <th>2010-01-24</th>\n",
       "      <td>82065.331</td>\n",
       "      <td>1</td>\n",
       "      <td>3</td>\n",
       "      <td>2010</td>\n",
       "      <td>0.5</td>\n",
       "      <td>0.866025</td>\n",
       "      <td>111460.470</td>\n",
       "      <td>22007.77</td>\n",
       "    </tr>\n",
       "    <tr>\n",
       "      <th>2010-01-31</th>\n",
       "      <td>110790.591</td>\n",
       "      <td>1</td>\n",
       "      <td>4</td>\n",
       "      <td>2010</td>\n",
       "      <td>0.5</td>\n",
       "      <td>0.866025</td>\n",
       "      <td>82065.331</td>\n",
       "      <td>0.00</td>\n",
       "    </tr>\n",
       "  </tbody>\n",
       "</table>\n",
       "</div>"
      ],
      "text/plain": [
       "                 sales  month  number_of_week  year  month_sin  month_cos  \\\n",
       "week                                                                        \n",
       "2010-01-03       0.000      1              53  2010        0.5   0.866025   \n",
       "2010-01-10  112318.850      1               1  2010        0.5   0.866025   \n",
       "2010-01-17  111460.470      1               2  2010        0.5   0.866025   \n",
       "2010-01-24   82065.331      1               3  2010        0.5   0.866025   \n",
       "2010-01-31  110790.591      1               4  2010        0.5   0.866025   \n",
       "\n",
       "            sales_lag_1W  sales_lag_4W  \n",
       "week                                    \n",
       "2010-01-03     22007.770     213000.35  \n",
       "2010-01-10         0.000     195810.04  \n",
       "2010-01-17    112318.850     182396.74  \n",
       "2010-01-24    111460.470      22007.77  \n",
       "2010-01-31     82065.331          0.00  "
      ]
     },
     "execution_count": 58,
     "metadata": {},
     "output_type": "execute_result"
    }
   ],
   "source": [
    "df.head()"
   ]
  },
  {
   "cell_type": "code",
   "execution_count": 60,
   "id": "8daa3b1d",
   "metadata": {},
   "outputs": [
    {
     "data": {
      "text/plain": [
       "sales             float64\n",
       "month               int32\n",
       "number_of_week     UInt32\n",
       "year                int32\n",
       "month_sin         float64\n",
       "month_cos         float64\n",
       "sales_lag_1W      float64\n",
       "sales_lag_4W      float64\n",
       "dtype: object"
      ]
     },
     "execution_count": 60,
     "metadata": {},
     "output_type": "execute_result"
    }
   ],
   "source": [
    "df.dtypes"
   ]
  },
  {
   "cell_type": "markdown",
   "id": "20ae8079",
   "metadata": {},
   "source": [
    "## Split data\n",
    "\n",
    "Separate the data into training and testing sets, leaving the data after the last week of September to evaluate the forecasts, that is, in the testing set."
   ]
  },
  {
   "cell_type": "code",
   "execution_count": 61,
   "id": "174ed3f3",
   "metadata": {},
   "outputs": [],
   "source": [
    "df = df.sort_index(ascending=True)"
   ]
  },
  {
   "cell_type": "code",
   "execution_count": 71,
   "id": "44674619",
   "metadata": {},
   "outputs": [
    {
     "name": "stdout",
     "output_type": "stream",
     "text": [
      "0.1   2010-03-14 16:48:00\n",
      "0.2   2010-05-24 09:36:00\n",
      "0.3   2010-08-03 02:24:00\n",
      "0.4   2010-10-12 19:12:00\n",
      "0.5   2010-12-22 12:00:00\n",
      "0.6   2011-03-03 04:48:00\n",
      "0.7   2011-05-12 21:36:00\n",
      "0.8   2011-07-22 14:24:00\n",
      "0.9   2011-10-01 07:12:00\n",
      "1.0   2011-12-11 00:00:00\n",
      "Name: week, dtype: datetime64[ns]\n"
     ]
    }
   ],
   "source": [
    "percentiles = df.index.to_series().quantile([x-0.9*x for x in range(1,11)])\n",
    "\n",
    "print(percentiles)"
   ]
  },
  {
   "cell_type": "code",
   "execution_count": 75,
   "id": "1d3e7a40",
   "metadata": {},
   "outputs": [
    {
     "data": {
      "text/plain": [
       "((91, 8), (11, 8))"
      ]
     },
     "execution_count": 75,
     "metadata": {},
     "output_type": "execute_result"
    }
   ],
   "source": [
    "X_train = df[df.index <= '2011-09-26']\n",
    "X_test = df[df.index > '2011-09-26']\n",
    "\n",
    "X_train.shape, X_test.shape"
   ]
  },
  {
   "cell_type": "code",
   "execution_count": 77,
   "id": "eeeca8c3",
   "metadata": {},
   "outputs": [
    {
     "data": {
      "text/plain": [
       "0.8921568627450981"
      ]
     },
     "execution_count": 77,
     "metadata": {},
     "output_type": "execute_result"
    }
   ],
   "source": [
    "(91)/(91+11)"
   ]
  },
  {
   "cell_type": "code",
   "execution_count": 96,
   "id": "8cd78036",
   "metadata": {},
   "outputs": [],
   "source": [
    "y_train = X_train['sales'].copy()\n",
    "y_test = X_test['sales'].copy()\n",
    "\n",
    "X_train = X_train.drop(\"sales\", axis=1)\n",
    "X_test = X_test.drop(\"sales\", axis=1)"
   ]
  },
  {
   "cell_type": "code",
   "execution_count": 97,
   "id": "45219a02",
   "metadata": {},
   "outputs": [
    {
     "data": {
      "text/plain": [
       "Index(['month', 'number_of_week', 'year', 'month_sin', 'month_cos',\n",
       "       'sales_lag_1W', 'sales_lag_4W'],\n",
       "      dtype='object')"
      ]
     },
     "execution_count": 97,
     "metadata": {},
     "output_type": "execute_result"
    }
   ],
   "source": [
    "X_train.columns"
   ]
  },
  {
   "cell_type": "markdown",
   "id": "820803d5",
   "metadata": {},
   "source": [
    "## Naive forecast\n",
    "\n",
    "Predict sales in the next week (t) as the value of sales in the previous week (t-1)."
   ]
  },
  {
   "cell_type": "code",
   "execution_count": 98,
   "id": "187ed0a9",
   "metadata": {},
   "outputs": [
    {
     "name": "stdout",
     "output_type": "stream",
     "text": [
      "train rmse:  46510.449475644295\n",
      "test rmse:  65327.34284108387\n"
     ]
    }
   ],
   "source": [
    "from sklearn.ensemble import RandomForestRegressor\n",
    "from sklearn.linear_model import Lasso\n",
    "from sklearn.metrics import mean_squared_error\n",
    "\n",
    "print(\"train rmse: \", mean_squared_error(\n",
    "    y_train, X_train[\"sales_lag_1W\"], squared=False,))\n",
    "\n",
    "print(\"test rmse: \",  mean_squared_error(\n",
    "    y_test, X_test[\"sales_lag_1W\"], squared=False,))"
   ]
  },
  {
   "cell_type": "markdown",
   "id": "4058260e",
   "metadata": {},
   "source": [
    "## Machine Learning"
   ]
  },
  {
   "cell_type": "code",
   "execution_count": 99,
   "id": "4957673a",
   "metadata": {},
   "outputs": [
    {
     "name": "stderr",
     "output_type": "stream",
     "text": [
      "C:\\ProgramData\\Anaconda3\\lib\\site-packages\\sklearn\\utils\\validation.py:623: FutureWarning: is_sparse is deprecated and will be removed in a future version. Check `isinstance(dtype, pd.SparseDtype)` instead.\n",
      "  if not hasattr(array, \"sparse\") and array.dtypes.apply(is_sparse).any():\n"
     ]
    },
    {
     "data": {
      "text/plain": [
       "RandomForestRegressor(max_depth=3, n_estimators=50, random_state=0)"
      ]
     },
     "execution_count": 99,
     "metadata": {},
     "output_type": "execute_result"
    }
   ],
   "source": [
    "rf_model = RandomForestRegressor(\n",
    "    n_estimators=50,\n",
    "    max_depth=3,\n",
    "    random_state=0,\n",
    ")\n",
    "\n",
    "rf_model.fit(X_train, y_train)"
   ]
  },
  {
   "cell_type": "code",
   "execution_count": 100,
   "id": "24bed079",
   "metadata": {},
   "outputs": [
    {
     "name": "stdout",
     "output_type": "stream",
     "text": [
      "train rmse:  27150.801200664697\n",
      "test rmse:  51686.24384024919\n"
     ]
    },
    {
     "name": "stderr",
     "output_type": "stream",
     "text": [
      "C:\\ProgramData\\Anaconda3\\lib\\site-packages\\sklearn\\utils\\validation.py:623: FutureWarning: is_sparse is deprecated and will be removed in a future version. Check `isinstance(dtype, pd.SparseDtype)` instead.\n",
      "  if not hasattr(array, \"sparse\") and array.dtypes.apply(is_sparse).any():\n",
      "C:\\ProgramData\\Anaconda3\\lib\\site-packages\\sklearn\\utils\\validation.py:623: FutureWarning: is_sparse is deprecated and will be removed in a future version. Check `isinstance(dtype, pd.SparseDtype)` instead.\n",
      "  if not hasattr(array, \"sparse\") and array.dtypes.apply(is_sparse).any():\n"
     ]
    }
   ],
   "source": [
    "# Performance of random forests\n",
    "\n",
    "print(\"train rmse: \", mean_squared_error(\n",
    "    y_train, rf_model.predict(X_train), squared=False,))\n",
    "\n",
    "print(\"test rmse: \",  mean_squared_error(\n",
    "    y_test, rf_model.predict(X_test), squared=False,))"
   ]
  },
  {
   "cell_type": "code",
   "execution_count": 101,
   "id": "ecba2299",
   "metadata": {},
   "outputs": [
    {
     "name": "stderr",
     "output_type": "stream",
     "text": [
      "C:\\ProgramData\\Anaconda3\\lib\\site-packages\\sklearn\\utils\\validation.py:623: FutureWarning: is_sparse is deprecated and will be removed in a future version. Check `isinstance(dtype, pd.SparseDtype)` instead.\n",
      "  if not hasattr(array, \"sparse\") and array.dtypes.apply(is_sparse).any():\n"
     ]
    },
    {
     "data": {
      "text/plain": [
       "Lasso(alpha=100, random_state=0)"
      ]
     },
     "execution_count": 101,
     "metadata": {},
     "output_type": "execute_result"
    }
   ],
   "source": [
    "linear_model = Lasso(alpha=100, random_state=0)\n",
    "\n",
    "linear_model.fit(X_train, y_train)"
   ]
  },
  {
   "cell_type": "code",
   "execution_count": 102,
   "id": "d2898f2d",
   "metadata": {},
   "outputs": [
    {
     "name": "stdout",
     "output_type": "stream",
     "text": [
      "train rmse:  38854.64678546146\n",
      "test rmse:  57179.93664479199\n"
     ]
    },
    {
     "name": "stderr",
     "output_type": "stream",
     "text": [
      "C:\\ProgramData\\Anaconda3\\lib\\site-packages\\sklearn\\utils\\validation.py:623: FutureWarning: is_sparse is deprecated and will be removed in a future version. Check `isinstance(dtype, pd.SparseDtype)` instead.\n",
      "  if not hasattr(array, \"sparse\") and array.dtypes.apply(is_sparse).any():\n",
      "C:\\ProgramData\\Anaconda3\\lib\\site-packages\\sklearn\\utils\\validation.py:623: FutureWarning: is_sparse is deprecated and will be removed in a future version. Check `isinstance(dtype, pd.SparseDtype)` instead.\n",
      "  if not hasattr(array, \"sparse\") and array.dtypes.apply(is_sparse).any():\n"
     ]
    }
   ],
   "source": [
    "# Performance of linear model\n",
    "\n",
    "print(\"train rmse: \", mean_squared_error(\n",
    "    y_train, linear_model.predict(X_train), squared=False,))\n",
    "\n",
    "print(\"test rmse: \",  mean_squared_error(\n",
    "    y_test, linear_model.predict(X_test), squared=False,))"
   ]
  },
  {
   "cell_type": "code",
   "execution_count": 104,
   "id": "a75e6837",
   "metadata": {},
   "outputs": [
    {
     "data": {
      "text/plain": [
       "Text(0, 0.5, 'Importance')"
      ]
     },
     "execution_count": 104,
     "metadata": {},
     "output_type": "execute_result"
    },
    {
     "data": {
      "image/png": "[encoded data removed]",
      "text/plain": [
       "<Figure size 1500x600 with 1 Axes>"
      ]
     },
     "metadata": {},
     "output_type": "display_data"
    }
   ],
   "source": [
    "# Let's now plot the feature's importance\n",
    "# according to the linear model.\n",
    "\n",
    "import numpy as np\n",
    "\n",
    "# Create series with feature importance.\n",
    "tmp = pd.Series(np.abs(linear_model.coef_))\n",
    "\n",
    "# Let's add the variable names.\n",
    "tmp.index = X_train.columns\n",
    "\n",
    "# Let's make a bar plot.\n",
    "tmp.plot.bar(figsize=(15, 6))\n",
    "plt.title(\"Feature importance\")\n",
    "plt.ylabel(\"Importance\")"
   ]
  },
  {
   "cell_type": "code",
   "execution_count": null,
   "id": "a77528ef",
   "metadata": {},
   "outputs": [],
   "source": []
  }
 ],
 "metadata": {
  "kernelspec": {
   "display_name": "Python 3 (ipykernel)",
   "language": "python",
   "name": "python3"
  },
  "language_info": {
   "codemirror_mode": {
    "name": "ipython",
    "version": 3
   },
   "file_extension": ".py",
   "mimetype": "text/x-python",
   "name": "python",
   "nbconvert_exporter": "python",
   "pygments_lexer": "ipython3",
   "version": "3.9.18"
  },
  "toc": {
   "base_numbering": 1,
   "nav_menu": {},
   "number_sections": true,
   "sideBar": true,
   "skip_h1_title": false,
   "title_cell": "Table of Contents",
   "title_sidebar": "Contents",
   "toc_cell": false,
   "toc_position": {},
   "toc_section_display": true,
   "toc_window_display": true
  }
 },
 "nbformat": 4,
 "nbformat_minor": 5
}
